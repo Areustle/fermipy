{
 "cells": [
  {
   "cell_type": "markdown",
   "metadata": {},
   "source": [
    "# Installation Instructions\n",
    "\n",
    "This notebook will go through the steps to install the Fermi Science Tools and then fermipy on top of them.  Note that this might not cover all of the specific things you might need to do on your own machine but hopefully will get you going on the way to getting everything working."
   ]
  },
  {
   "cell_type": "markdown",
   "metadata": {},
   "source": [
    "## Scientific Linux\n",
    "\n",
    "Download the tools.  We suggest getting the binaries closest matching your system.  If you want to compile the Science Tools, that's fine but we can't help with any issues that might arise.\n",
    "\n",
    "http://fermi.gsfc.nasa.gov/ssc/data/analysis/software/\n",
    "\n",
    "In this example, we're running a 64 bit Scientific Linux 6 distribution so we downloaded \n",
    "\n",
    "[ScienceTools-v10r0p5-fssc-20150518-x86_64-unknown-linux-gnu-libc2.12A.tar.gz](http://fermi.gsfc.nasa.gov/ssc/data/analysis/software/tar/ScienceTools-v10r0p5-fssc-20150518-x86_64-unknown-linux-gnu-libc2.12A.tar.gz)\n",
    "\n",
    "Then, follow the [instructions about installing the tools](http://fermi.gsfc.nasa.gov/ssc/data/analysis/software/README_BINARY_INSTALL_FERMI.txt) from the FSSC."
   ]
  },
  {
   "cell_type": "markdown",
   "metadata": {},
   "source": [
    "## OSX\n",
    "\n",
    "Download the tools.  We suggest getting the binaries closest matching your system.  If you want to compile the Science Tools, that's fine but we can't help with any issues that might arise.\n",
    "\n",
    "http://fermi.gsfc.nasa.gov/ssc/data/analysis/software/\n",
    "\n",
    "In this example, we're running a Yosemite distribution so we downloaded \n",
    "\n",
    "[ScienceTools-v10r0p5-fssc-patch-20150518-x86_64-apple-darwin14.4.0-without-root.tar.gz](http://fermi.gsfc.nasa.gov/ssc/data/analysis/software/tar/ScienceTools-v10r0p5-fssc-patch-20150518-x86_64-apple-darwin14.4.0-without-root.tar.gz)\n",
    "\n",
    "Then, follow the [instructions about installing the tools](http://fermi.gsfc.nasa.gov/ssc/data/analysis/software/README_BINARY_INSTALL_FERMI.txt) from the FSSC."
   ]
  },
  {
   "cell_type": "code",
   "execution_count": null,
   "metadata": {
    "collapsed": true
   },
   "outputs": [],
   "source": []
  }
 ],
 "metadata": {
  "kernelspec": {
   "display_name": "Python 2",
   "language": "python",
   "name": "python2"
  },
  "language_info": {
   "codemirror_mode": {
    "name": "ipython",
    "version": 2
   },
   "file_extension": ".py",
   "mimetype": "text/x-python",
   "name": "python",
   "nbconvert_exporter": "python",
   "pygments_lexer": "ipython2",
   "version": "2.7.10"
  }
 },
 "nbformat": 4,
 "nbformat_minor": 0
}
